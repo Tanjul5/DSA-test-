{
  "nbformat": 4,
  "nbformat_minor": 0,
  "metadata": {
    "colab": {
      "provenance": [],
      "authorship_tag": "ABX9TyON1Rd9qIOIhCo2gpaX9leN",
      "include_colab_link": true
    },
    "kernelspec": {
      "name": "python3",
      "display_name": "Python 3"
    },
    "language_info": {
      "name": "python"
    }
  },
  "cells": [
    {
      "cell_type": "markdown",
      "metadata": {
        "id": "view-in-github",
        "colab_type": "text"
      },
      "source": [
        "<a href=\"https://colab.research.google.com/github/Tanjul5/DSA-test-/blob/main/DSA_MOCK_TEST2.ipynb\" target=\"_parent\"><img src=\"https://colab.research.google.com/assets/colab-badge.svg\" alt=\"Open In Colab\"/></a>"
      ]
    },
    {
      "cell_type": "markdown",
      "source": [],
      "metadata": {
        "id": "_MTNYClzdBmx"
      }
    },
    {
      "cell_type": "markdown",
      "source": [
        "Given a non-negative integer x, return the square root of x rounded down to the nearest integer. The returned integer should be non-negative as well. You must not use any built-in exponent function or operator.\n",
        "\n",
        " Example 1:\n",
        "Input: x = 4 Output: 2 Explanation: The square root of 4 is 2, so we return 2.\n",
        "Example 2:\n",
        "\n",
        "Input: x = 8 Output: 2 Explanation: The square root of 8 is 2.82842..., and since we round it down to the nearest integer, 2 is returned.\n",
        "Constraints:\n",
        "\n",
        "0 <= x <= 2^31 - 1"
      ],
      "metadata": {
        "id": "qL12JCfegrrF"
      }
    },
    {
      "cell_type": "code",
      "source": [
        "class Solution:\n",
        "    def mySqrt(self, x):\n",
        "        low = 0\n",
        "        high = x\n",
        "        if x <= 1:\n",
        "            return x\n",
        "        while low <= high:\n",
        "            mid =  (low + high) // 2\n",
        "            if mid ** 2 <= x < (mid + 1) ** 2:\n",
        "                return mid\n",
        "            elif mid ** 2 < x:\n",
        "                low = mid + 1\n",
        "            else:\n",
        "                high = mid - 1\n",
        "ob1 = Solution()\n",
        "print(ob1.mySqrt(4))\n",
        "print(ob1.mySqrt(8))"
      ],
      "metadata": {
        "colab": {
          "base_uri": "https://localhost:8080/"
        },
        "id": "kB61kyWteC6P",
        "outputId": "538189a2-9e7f-4d3e-c4c9-108799b573d2"
      },
      "execution_count": 3,
      "outputs": [
        {
          "output_type": "stream",
          "name": "stdout",
          "text": [
            "2\n",
            "2\n"
          ]
        }
      ]
    },
    {
      "cell_type": "markdown",
      "source": [],
      "metadata": {
        "id": "ssefylg1enaX"
      }
    },
    {
      "cell_type": "markdown",
      "source": [
        "You are given two non-empty linked lists representing two non-negative integers. The digits are stored in reverse order, and each of their nodes contains a single digit. Add the two numbers and return the sum as a linked list.\n",
        "\n",
        "You may assume the two numbers do not contain any leading zero, except the number 0 itself.\n",
        "\n",
        "\n",
        "Example 1:\n",
        "\n",
        "Input: l1 = [2,4,3], l2 = [5,6,4] Output: [7,0,8] Explanation: 342 + 465 = 807.\n",
        "\n",
        "Example 2:\n",
        "\n",
        "Input: l1 = [0], l2 = [0] Output: [0]\n",
        "\n",
        "Example 3:\n",
        "\n",
        "Input: l1 = [9,9,9,9,9,9,9], l2 = [9,9,9,9] Output: [8,9,9,9,0,0,0,1]"
      ],
      "metadata": {
        "id": "ub3ymDAvgmKw"
      }
    },
    {
      "cell_type": "code",
      "source": [
        "# Definition for singly-linked list.\n",
        "class ListNode(object):\n",
        "  def __init__(self, x):\n",
        "    self.val = x\n",
        "    self.next = None\n",
        "\n",
        "\n",
        "class Solution:\n",
        "  def addTwoNumbers(self, l1: ListNode, l2: ListNode):\n",
        "    dummy = ListNode(0)\n",
        "    curr = dummy\n",
        "    carry = 0\n",
        "\n",
        "    while carry or l1 or l2:\n",
        "      if l1:\n",
        "        carry += l1.val\n",
        "        l1 = l1.next\n",
        "      if l2:\n",
        "        carry += l2.val\n",
        "        l2 = l2.next\n",
        "      curr.next = ListNode(carry % 10)\n",
        "      carry //= 10\n",
        "      curr = curr.next\n",
        "\n",
        "    return dummy.next\n",
        "\n",
        "\n",
        "l1 = [2,4,3]\n",
        "l2 = [5,6,4]\n",
        "\n",
        "ob1 = Solution()\n",
        "print(ob1.addTwoNumbers(l1,l2))\n"
      ],
      "metadata": {
        "colab": {
          "base_uri": "https://localhost:8080/",
          "height": 321
        },
        "id": "MaCP4mNYen9b",
        "outputId": "ab0f66a2-d7c3-4d96-eff1-5fe30a6111a6"
      },
      "execution_count": 8,
      "outputs": [
        {
          "output_type": "error",
          "ename": "AttributeError",
          "evalue": "ignored",
          "traceback": [
            "\u001b[0;31m---------------------------------------------------------------------------\u001b[0m",
            "\u001b[0;31mAttributeError\u001b[0m                            Traceback (most recent call last)",
            "\u001b[0;32m<ipython-input-8-7551020ad8f8>\u001b[0m in \u001b[0;36m<cell line: 32>\u001b[0;34m()\u001b[0m\n\u001b[1;32m     30\u001b[0m \u001b[0;34m\u001b[0m\u001b[0m\n\u001b[1;32m     31\u001b[0m \u001b[0mob1\u001b[0m \u001b[0;34m=\u001b[0m \u001b[0mSolution\u001b[0m\u001b[0;34m(\u001b[0m\u001b[0;34m)\u001b[0m\u001b[0;34m\u001b[0m\u001b[0;34m\u001b[0m\u001b[0m\n\u001b[0;32m---> 32\u001b[0;31m \u001b[0mprint\u001b[0m\u001b[0;34m(\u001b[0m\u001b[0mob1\u001b[0m\u001b[0;34m.\u001b[0m\u001b[0maddTwoNumbers\u001b[0m\u001b[0;34m(\u001b[0m\u001b[0ml1\u001b[0m\u001b[0;34m,\u001b[0m\u001b[0ml2\u001b[0m\u001b[0;34m)\u001b[0m\u001b[0;34m)\u001b[0m\u001b[0;34m\u001b[0m\u001b[0;34m\u001b[0m\u001b[0m\n\u001b[0m",
            "\u001b[0;32m<ipython-input-8-7551020ad8f8>\u001b[0m in \u001b[0;36maddTwoNumbers\u001b[0;34m(self, l1, l2)\u001b[0m\n\u001b[1;32m     14\u001b[0m     \u001b[0;32mwhile\u001b[0m \u001b[0mcarry\u001b[0m \u001b[0;32mor\u001b[0m \u001b[0ml1\u001b[0m \u001b[0;32mor\u001b[0m \u001b[0ml2\u001b[0m\u001b[0;34m:\u001b[0m\u001b[0;34m\u001b[0m\u001b[0;34m\u001b[0m\u001b[0m\n\u001b[1;32m     15\u001b[0m       \u001b[0;32mif\u001b[0m \u001b[0ml1\u001b[0m\u001b[0;34m:\u001b[0m\u001b[0;34m\u001b[0m\u001b[0;34m\u001b[0m\u001b[0m\n\u001b[0;32m---> 16\u001b[0;31m         \u001b[0mcarry\u001b[0m \u001b[0;34m+=\u001b[0m \u001b[0ml1\u001b[0m\u001b[0;34m.\u001b[0m\u001b[0mval\u001b[0m\u001b[0;34m\u001b[0m\u001b[0;34m\u001b[0m\u001b[0m\n\u001b[0m\u001b[1;32m     17\u001b[0m         \u001b[0ml1\u001b[0m \u001b[0;34m=\u001b[0m \u001b[0ml1\u001b[0m\u001b[0;34m.\u001b[0m\u001b[0mnext\u001b[0m\u001b[0;34m\u001b[0m\u001b[0;34m\u001b[0m\u001b[0m\n\u001b[1;32m     18\u001b[0m       \u001b[0;32mif\u001b[0m \u001b[0ml2\u001b[0m\u001b[0;34m:\u001b[0m\u001b[0;34m\u001b[0m\u001b[0;34m\u001b[0m\u001b[0m\n",
            "\u001b[0;31mAttributeError\u001b[0m: 'list' object has no attribute 'val'"
          ]
        }
      ]
    }
  ]
}