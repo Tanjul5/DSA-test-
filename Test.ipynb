{
  "nbformat": 4,
  "nbformat_minor": 0,
  "metadata": {
    "colab": {
      "provenance": [],
      "authorship_tag": "ABX9TyNQTyxi8558dNKrFVuHg+KS",
      "include_colab_link": true
    },
    "kernelspec": {
      "name": "python3",
      "display_name": "Python 3"
    },
    "language_info": {
      "name": "python"
    }
  },
  "cells": [
    {
      "cell_type": "markdown",
      "metadata": {
        "id": "view-in-github",
        "colab_type": "text"
      },
      "source": [
        "<a href=\"https://colab.research.google.com/github/Tanjul5/DSA-test-/blob/main/Test.ipynb\" target=\"_parent\"><img src=\"https://colab.research.google.com/assets/colab-badge.svg\" alt=\"Open In Colab\"/></a>"
      ]
    },
    {
      "cell_type": "markdown",
      "source": [
        "# Move Zeroes"
      ],
      "metadata": {
        "id": "RghPFnBVCjhB"
      }
    },
    {
      "cell_type": "code",
      "source": [
        "from typing import List\n"
      ],
      "metadata": {
        "id": "xfyUGntK_TDJ"
      },
      "execution_count": 2,
      "outputs": []
    },
    {
      "cell_type": "code",
      "source": [
        "class Solution(object):\n",
        "    def moveZeroes(self, nums):\n",
        "      l=0\n",
        "      for r in range(len(nums)):\n",
        "        if nums[r]:\n",
        "          nums[l],nums[r]=nums[r],nums[l] \n",
        "          l+=1\n",
        "      return nums\n",
        "       \n",
        "\n",
        "nums = [0,1,0,3,12]\n",
        "s=Solution()\n",
        "print(s.moveZeroes(nums))\n"
      ],
      "metadata": {
        "colab": {
          "base_uri": "https://localhost:8080/"
        },
        "id": "HQZoOG2mAc2b",
        "outputId": "beb127da-cbc8-4733-cf10-81697df15d75"
      },
      "execution_count": 12,
      "outputs": [
        {
          "output_type": "stream",
          "name": "stdout",
          "text": [
            "[1, 3, 12, 0, 0]\n"
          ]
        }
      ]
    },
    {
      "cell_type": "markdown",
      "source": [
        "# First Unique Character in a String"
      ],
      "metadata": {
        "id": "p1bxtJTeCeiy"
      }
    },
    {
      "cell_type": "code",
      "source": [
        "import collections"
      ],
      "metadata": {
        "id": "B6mdH9LBA7eq"
      },
      "execution_count": 10,
      "outputs": []
    },
    {
      "cell_type": "code",
      "source": [
        "class Solution:\n",
        "  def firstUniqChar(self, s: str) -> int:\n",
        "    count = collections.Counter(s)\n",
        "\n",
        "    for i, c in enumerate(s):\n",
        "      if count[c] == 1:\n",
        "        return i\n",
        "\n",
        "    return -1\n",
        "\n",
        "s = \"leetcode\"\n",
        "S=Solution()\n",
        "print(S.firstUniqChar(s))"
      ],
      "metadata": {
        "colab": {
          "base_uri": "https://localhost:8080/"
        },
        "id": "oh2Qx_XPA7cT",
        "outputId": "7f9c45d0-6c0e-4dce-dadb-85b42712129d"
      },
      "execution_count": 11,
      "outputs": [
        {
          "output_type": "stream",
          "name": "stdout",
          "text": [
            "0\n"
          ]
        }
      ]
    }
  ]
}